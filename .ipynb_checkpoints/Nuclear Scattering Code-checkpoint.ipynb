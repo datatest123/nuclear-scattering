{
 "cells": [
  {
   "cell_type": "markdown",
   "metadata": {},
   "source": [
    "# Nuclear Project"
   ]
  },
  {
   "cell_type": "code",
   "execution_count": 1,
   "metadata": {
    "collapsed": true
   },
   "outputs": [],
   "source": [
    "import numpy as np\n",
    "import scipy as sp\n",
    "from scipy.optimize import basinhopping\n",
    "import matplotlib.pyplot as plt\n",
    "from numpy import loadtxt\n",
    "from math import exp\n",
    "%matplotlib inline"
   ]
  },
  {
   "cell_type": "markdown",
   "metadata": {},
   "source": [
    "### Gaussian Quadrature"
   ]
  },
  {
   "cell_type": "code",
   "execution_count": 2,
   "metadata": {
    "collapsed": true
   },
   "outputs": [],
   "source": [
    "######################################################################\n",
    "#\n",
    "# Functions to calculate integration points and weights for Gaussian\n",
    "# quadrature\n",
    "#\n",
    "# x,w = gaussxw(N) returns integration points x and integration\n",
    "#           weights w such that sum_i w[i]*f(x[i]) is the Nth-order\n",
    "#           Gaussian approximation to the integral int_{-1}^1 f(x) dx\n",
    "# x,w = gaussxwab(N,a,b) returns integration points and weights\n",
    "#           mapped to the interval [a,b], so that sum_i w[i]*f(x[i])\n",
    "#           is the Nth-order Gaussian approximation to the integral\n",
    "#           int_a^b f(x) dx\n",
    "#\n",
    "# This code finds the zeros of the nth Legendre polynomial using\n",
    "# Newton's method, starting from the approximation given in Abramowitz\n",
    "# and Stegun 22.16.6.  The Legendre polynomial itself is evaluated\n",
    "# using the recurrence relation given in Abramowitz and Stegun\n",
    "# 22.7.10.  The function has been checked against other sources for\n",
    "# values of N up to 1000.  It is compatible with version 2 and version\n",
    "# 3 of Python.\n",
    "#\n",
    "# Written by Mark Newman <mejn@umich.edu>, June 4, 2011\n",
    "# You may use, share, or modify this file freely\n",
    "#\n",
    "######################################################################\n",
    "\n",
    "def gaussxw(N):\n",
    "\n",
    "    # Initial approximation to roots of the Legendre polynomial\n",
    "    a = np.linspace(3,4*N-1,N)/(4*N+2)\n",
    "    x = np.cos(np.pi*a+1/(8*N*N*np.tan(a)))\n",
    "\n",
    "    # Find roots using Newton's method\n",
    "    epsilon = 1e-15\n",
    "    delta = 1.0\n",
    "    while delta>epsilon:\n",
    "        p0 = np.ones(N,float)\n",
    "        p1 = np.copy(x)\n",
    "        for k in range(1,N):\n",
    "            p0,p1 = p1,((2*k+1)*x*p1-k*p0)/(k+1)\n",
    "        dp = (N+1)*(p0-x*p1)/(1-x*x)\n",
    "        dx = p1/dp\n",
    "        x -= dx\n",
    "        delta = max(abs(dx))\n",
    "\n",
    "    # Calculate the weights\n",
    "    w = 2*(N+1)*(N+1)/(N*N*(1-x*x)*dp*dp)\n",
    "\n",
    "    return x,w\n",
    "\n",
    "def gaussxwab(N,a,b):\n",
    "    x,w = gaussxw(N)\n",
    "    return 0.5*(b-a)*x+0.5*(b+a),0.5*(b-a)*w"
   ]
  },
  {
   "cell_type": "markdown",
   "metadata": {},
   "source": [
    "### Potential Functions"
   ]
  },
  {
   "cell_type": "code",
   "execution_count": 3,
   "metadata": {},
   "outputs": [],
   "source": [
    "############################## ALL POTENTIAL FUNCTIONS RETURN VALUES IN JOULES #######################################\n",
    "\n",
    "# Define physical constants.\n",
    "c = 2.998e+8 # Speed of Light [m/s]\n",
    "hbar = 1.0545718e-34 # Modified Planck's Constant[Js]\n",
    "\n",
    "# Finite Potential Well. \n",
    "    # Takes in the distance from the nucleus, the nuclear radius, and the height of the well. \n",
    "def V_well(r,R,V_0):\n",
    "    x = r\n",
    "    x[r<R] = V_0 # [J]\n",
    "    x[r>=R] = 0.0 # [J]\n",
    "    return x\n",
    "\n",
    "# Yukawa Potential.\n",
    "    # Takes in the distance from the nucleus, the nuclear radius, and the scaling constant g.\n",
    "def V_yukawa(r, R, g):\n",
    "    return (-g**2) * np.e**(-r/R) / r\n",
    "\n",
    "# Woods-Saxon Potential\n",
    "    # Takes in the distance from the nucleus, the nuclear radius, the nuclear thickness a, and the max potential.\n",
    "def V_ws(r,R,a,V_0):\n",
    "    return -V_0 /(1 + np.e**((r-R)/a))\n"
   ]
  },
  {
   "cell_type": "markdown",
   "metadata": {},
   "source": [
    "### Integration Function"
   ]
  },
  {
   "cell_type": "code",
   "execution_count": 16,
   "metadata": {
    "collapsed": true
   },
   "outputs": [],
   "source": [
    "# Function numerically integrates a given integrand using Gaussian Quadrature. \n",
    "\n",
    "def integrate(integrand):\n",
    "\n",
    "    xi,wi = gaussxwab(100,0,1)\n",
    "    \n",
    "    # The integral is computed by summing the products of the coefficients and the function evaluated at\n",
    "    # the calculated points. The integrand has to be evaluated at modified points in order to integrate from 0 to ∞.\n",
    "    return np.sum(wi* integrand(xi/(1-xi)) / (1-xi)**2)"
   ]
  },
  {
   "cell_type": "markdown",
   "metadata": {},
   "source": [
    "### Cross Section Calculator"
   ]
  },
  {
   "cell_type": "code",
   "execution_count": 5,
   "metadata": {
    "collapsed": true
   },
   "outputs": [],
   "source": [
    "# Function produces the cross sectional scattering for one given angle using the Born Approximation.\n",
    "\n",
    "def differential_cross_section(theta, V, R):\n",
    "    \n",
    "    # Constants used for kaons scattered around \n",
    "    m = 7.899e-11/(c**2) # Mass  [kg]\n",
    "    p = 1.282e-10/c   # Kaon momentum [kg m/s] \n",
    "    q = (2*p/hbar)*np.sin(theta/2.0) # Wavevector [m^-1]\n",
    "    \n",
    "    # Define the integrand using functional programming.\n",
    "    # r has been scaled by the nuclear radius so that Gaussian Quadrature would sample the correct points.\n",
    "    integrand = lambda x : x * V(x*R) * np.sin(q * x*R)\n",
    "    \n",
    "    # Born Approximation. Modified to incorporate the effects of the scaling constant. \n",
    "    return (-m/(hbar * p * np.sin(theta/2)) * integrate(integrand))**2 * R**4"
   ]
  },
  {
   "cell_type": "markdown",
   "metadata": {},
   "source": [
    "### Error Function"
   ]
  },
  {
   "cell_type": "code",
   "execution_count": 6,
   "metadata": {
    "collapsed": true
   },
   "outputs": [],
   "source": [
    "# Calculate the sum of errors squared for the predicted values.\n",
    "def sumSquaredError(calculated, experimental):\n",
    "    return ((calculated - experimental)**2).sum()"
   ]
  },
  {
   "cell_type": "markdown",
   "metadata": {},
   "source": [
    "### Potential Selector"
   ]
  },
  {
   "cell_type": "code",
   "execution_count": 7,
   "metadata": {
    "collapsed": true
   },
   "outputs": [],
   "source": [
    "# Apply a potential based on the input string. Uses functional programming to apply the potential to desired scenario. \n",
    "\n",
    "def potential(V_name, params):\n",
    "    if V_name == \"square_well\":\n",
    "        return lambda r : V_well(r, params[0], params[1])\n",
    "    if V_name == \"Yukawa\":\n",
    "        return lambda r : V_yukawa(r, params[0], params[1])\n",
    "    if V_name == \"Woods-Saxon\":\n",
    "        return lambda r : V_ws(r, params[0], params[1], params[2])\n",
    "    else:\n",
    "        print(\"Error\")   "
   ]
  },
  {
   "cell_type": "markdown",
   "metadata": {},
   "source": [
    "### Cross Section Function"
   ]
  },
  {
   "cell_type": "code",
   "execution_count": 8,
   "metadata": {
    "collapsed": true
   },
   "outputs": [],
   "source": [
    "# Produces the array of cross sections for all angles used in the experiment. \n",
    "\n",
    "def cross_section_array(theta_array, V_name, params):\n",
    "    size = len(theta_array)        \n",
    "    calculated = np.zeros([size])\n",
    "    \n",
    "    # Apply the previous cross section function to all given angles. \n",
    "    for i in range(size):\n",
    "        calculated[i] = differential_cross_section(theta_array[i], potential(V_name, params), params[0])\n",
    "        \n",
    "    return calculated"
   ]
  },
  {
   "cell_type": "markdown",
   "metadata": {},
   "source": [
    "### Fitting Function"
   ]
  },
  {
   "cell_type": "code",
   "execution_count": 9,
   "metadata": {
    "collapsed": true
   },
   "outputs": [],
   "source": [
    "# Determines how good the fit of the predicted values are to the experimental data buy calculating\n",
    "# the sum of square errors. \n",
    "\n",
    "def parameterFit(V_name, params, data):\n",
    "    \n",
    "    # Separate the angles and cross sections into vectors. \n",
    "    thetas = data[:,0]\n",
    "    experimental = data[:,1]\n",
    "    \n",
    "    # Calculate the predicted cross sections based on the Born Approximation. \n",
    "    calculated = cross_section_array(thetas, V_name, params)        \n",
    "        \n",
    "    return sumSquaredError(calculated, experimental)"
   ]
  },
  {
   "cell_type": "markdown",
   "metadata": {},
   "source": [
    "### Graphing Function"
   ]
  },
  {
   "cell_type": "code",
   "execution_count": 10,
   "metadata": {},
   "outputs": [],
   "source": [
    "# Graphs the experimental data and the predicted values for all 3 potentials. \n",
    "\n",
    "def graphBestPlot(V_name1, V_name2, V_name3):\n",
    "    \n",
    "    # Load in the experimental data and extract the c.m. angle and cross section columns. \n",
    "    data = (np.loadtxt('Scattering_Data.txt'))[:, 1:3]\n",
    "    \n",
    "    thetas = data[:,0]*np.pi/180.0 # C.M. angle [rad]\n",
    "    experimental = data[:,1]*1e-31/.572 # Experimental cross section [m^2/rad]\n",
    "    \n",
    "    # Feed in the optimized parameters to calculate the best fitting values for each potential.\n",
    "    bestParams1 = [5.261874731343652e-15, -1.9621412215115647e-12]\n",
    "    bestCalculated1 = cross_section_array(thetas, V_name1, bestParams1)\n",
    "    \n",
    "    bestParams2 = [2.543646202990828e-15, -1.3431435062833437e-13]\n",
    "    bestCalculated2 = cross_section_array(thetas, V_name2, bestParams2)\n",
    "    \n",
    "    bestParams3 = [2.1008416412803036e-15, 1.0206858107669728e-15, 8.783933e-12]\n",
    "    bestCalculated3 = cross_section_array(thetas, V_name3, bestParams3)\n",
    "    \n",
    "    # Plot the values generated by the potentials.\n",
    "    plt.plot(thetas*180.0/np.pi, bestCalculated1, label = \"Square Well\")\n",
    "    plt.plot(thetas*180.0/np.pi, bestCalculated2, label = \"Yukawa\")\n",
    "    plt.plot(thetas*180.0/np.pi, bestCalculated3, label = \"Approximation\")\n",
    "    plt.xlabel('angle (°)')\n",
    "    plt.ylabel('cross section ($m^2/rad$)')\n",
    "    \n",
    "    # Plot the emperimental data for comparison. \n",
    "    ang = data[:,0]\n",
    "    cros = data[:,1]*1.0e-31/0.572 # convert from [mb/sr] to SI units\n",
    "    plt.plot(ang, cros, label = \"Experimental\", color = 'k', ls = '--') \n",
    "    plt.title(\"Combined Results\")\n",
    "    plt.legend()\n",
    "    plt.show()"
   ]
  },
  {
   "cell_type": "markdown",
   "metadata": {},
   "source": [
    "### Graph of Predicted Cross Sections and Experimental Data"
   ]
  },
  {
   "cell_type": "code",
   "execution_count": 11,
   "metadata": {},
   "outputs": [
    {
     "name": "stderr",
     "output_type": "stream",
     "text": [
      "C:\\Users\\80l7r\\Anaconda3\\lib\\site-packages\\ipykernel\\__main__.py:23: RuntimeWarning: overflow encountered in power\n"
     ]
    },
    {
     "data": {
      "image/png": "[encoded data removed]",
      "text/plain": [
       "<matplotlib.figure.Figure at 0x2dfe7dceac8>"
      ]
     },
     "metadata": {},
     "output_type": "display_data"
    }
   ],
   "source": [
    "graphBestPlot(\"square_well\", \"Yukawa\", \"Woods-Saxon\")"
   ]
  },
  {
   "cell_type": "markdown",
   "metadata": {},
   "source": [
    "### Modified Annealing for 2 Parameters"
   ]
  },
  {
   "cell_type": "code",
   "execution_count": null,
   "metadata": {
    "collapsed": true
   },
   "outputs": [],
   "source": [
    "data = (np.loadtxt('Scattering_Data.txt'))[:, 1:4]"
   ]
  },
  {
   "cell_type": "markdown",
   "metadata": {},
   "source": [
    "### Experimental Data"
   ]
  },
  {
   "cell_type": "code",
   "execution_count": 17,
   "metadata": {},
   "outputs": [
    {
     "data": {
      "image/png": "[encoded data removed]",
      "text/plain": [
       "<matplotlib.figure.Figure at 0x1848fd7abe0>"
      ]
     },
     "metadata": {},
     "output_type": "display_data"
    }
   ],
   "source": [
    "th = data[:,0]\n",
    "cros = data[:,1]*1.0e-31/0.572 # Convert to [m^2/rad]\n",
    "err = data[:,2]*1.0e-31/0.572\n",
    "crosMinus = cros - err\n",
    "crosPlus = cros + err\n",
    "plt.plot(th,cros, label = 'Data')\n",
    "plt.plot(th,crosMinus, ls = '-.', color = 'r', label = 'Error Bound')\n",
    "plt.plot(th,crosPlus, ls = '-.', color = 'r')\n",
    "plt.xlabel('Angle (°)')\n",
    "plt.ylabel('Cross Section ($m^2/rad$)')\n",
    "plt.title('K+ Carbon-12 Scattering Experimental Data')\n",
    "plt.legend()\n",
    "plt.show()"
   ]
  },
  {
   "cell_type": "code",
   "execution_count": 17,
   "metadata": {},
   "outputs": [
    {
     "name": "stdout",
     "output_type": "stream",
     "text": [
      "4.7379016813131785e-15 -1.6982525071630256e-12 43\n"
     ]
    }
   ],
   "source": [
    "# The following script produces the best fitting parameters for the potential functions by minimizing the squared error.\n",
    "# This method is based on the Annealing code example provided in Chapter 10.4. \n",
    "\n",
    "# Define extent and initial guesses.\n",
    "Tmax = 10.\n",
    "Tmin = 1e-3\n",
    "tau = 10.\n",
    "input1 = 5.340097627885519e-15\n",
    "input2 =  -1.8885756988810294e-12\n",
    "\n",
    "# Record the number of times the process moved closer to the minimum. \n",
    "changes = 0\n",
    "\n",
    "# Extract the angles and cross sections. \n",
    "data[:,0] *= np.pi / 180\n",
    "data[:,1] *= 1.0e-31/0.572 # convert from mb/sr to SI units\n",
    "\n",
    "# Calculate the initial error, which is the value to be minimized through annealing.\n",
    "error = parameterFit(\"square_well\", [input1, input2], data)*1e56 # Scale up to avoid precision problems.\n",
    "\n",
    "# Initialize parameters.\n",
    "t = 0\n",
    "T = Tmax\n",
    "\n",
    "# Loop until the minimum is reached. \n",
    "while T>Tmin:\n",
    "    \n",
    "    # Increment time and calculate new temp. \n",
    "    t += 1\n",
    "    T = Tmax*np.exp(-t/tau) #cooling\n",
    "    \n",
    "    # Randomly decide whether to update the first or second parameter.\n",
    "    if np.random.random() > .5:\n",
    "        ninput1 = input1 + (.5 - np.random.random())*input1/50 # change by a random amount\n",
    "        ninput2 = input2\n",
    "    else:\n",
    "        ninput1 = input1\n",
    "        ninput2 = input2 + (.5 - np.random.random())*input2/50 # change by a random amount\n",
    "        \n",
    "    # Calculate the new squared error using the updated values. \n",
    "    newError = parameterFit(\"square_well\", [ninput1, ninput2], data)*1e56 \n",
    "    \n",
    "    # Calculate the change in error.\n",
    "    deltaE = (newError - error)\n",
    "    \n",
    "    # If the change is negative, we have moved closer to the minimum. Reassign the values for the next iteration. \n",
    "    if deltaE < 0 :\n",
    "        changes += 1\n",
    "        input1 = ninput1\n",
    "        input2 = ninput2\n",
    "        error = newError\n",
    "\n",
    "# Print the optimized parameters and the number of successful updates. \n",
    "print(input1,input2, changes)"
   ]
  },
  {
   "cell_type": "code",
   "execution_count": 18,
   "metadata": {},
   "outputs": [
    {
     "name": "stderr",
     "output_type": "stream",
     "text": [
      "C:\\Users\\80l7r\\Anaconda3\\lib\\site-packages\\ipykernel\\__main__.py:23: RuntimeWarning: overflow encountered in power\n"
     ]
    },
    {
     "name": "stdout",
     "output_type": "stream",
     "text": [
      "1.0143132598717406e-15 4.3494754522406e-16 8.783933e-12 312\n"
     ]
    }
   ],
   "source": [
    "# The following script produces the best fitting parameters for the Woods-Saxon potential. It follows the same \n",
    "# procedure as before but with modifications for 3 parameters. \n",
    "\n",
    "# Define extent and initial guesses.\n",
    "Tmax = 10.\n",
    "Tmin = 1e-3\n",
    "tau = 100.\n",
    "input1 = 2.149795342981331e-15\n",
    "input2 = 9.856437941217449e-16\n",
    "input3 = 8.783933e-12\n",
    "\n",
    "# Record the number of times the process moved closer to the minimum. \n",
    "changes = 0\n",
    "\n",
    "# Extract the angles and cross sections. \n",
    "data[:,0] *= np.pi / 180\n",
    "data[:,1] *= 1.0e-31/0.572 # convert from mb/sr to SI units\n",
    "\n",
    "# Calculate the initial error, which is the value to be minimized through annealing.\n",
    "error = parameterFit(\"Woods-Saxon\", [input1, input2, input3], data)*1e56 # Scale up to avoid precision problems.\n",
    "\n",
    "# Initialize parameters.\n",
    "t = 0\n",
    "T = Tmax\n",
    "\n",
    "# Loop until the minimum is reached.\n",
    "while T>Tmin:\n",
    "    \n",
    "    # Increment time and calculate new temp.\n",
    "    t += 1\n",
    "    T = Tmax*np.exp(-t/tau) #cooling\n",
    "    \n",
    "    # Choose a random number for updating the parameters.\n",
    "    num = np.random.random()\n",
    "    \n",
    "    # Randomly decide whether to update the first, second, or third parameter. \n",
    "    if num < 0.3333:\n",
    "        ninput1 = input1 + (.5 - np.random.random())*input1/50\n",
    "        ninput2 = input2\n",
    "        ninput3 = input3\n",
    "    elif num < 0.666:\n",
    "        ninput1 = input1\n",
    "        ninput2 = input2 + (.5 - np.random.random())*input2/50\n",
    "        ninput3 = input3\n",
    "    else:\n",
    "        ninput1 = input1\n",
    "        ninput2 = input2  \n",
    "        ninput3 = input3 + (.5 - np.random.random())*input3/50\n",
    "    \n",
    "    # Calculate the new squared error using the updated values. \n",
    "    newError = parameterFit(\"Woods-Saxon\", [ninput1, ninput2, input3], data)*1e56 \n",
    "    \n",
    "    # Calculate the change in error.\n",
    "    deltaE = (newError - error)\n",
    "    \n",
    "    # If the change is negative, we have moved closer to the minimum. Reassign the values for the next iteration.\n",
    "    if deltaE < 0 :\n",
    "        changes += 1\n",
    "        input1 = ninput1\n",
    "        input2 = ninput2\n",
    "        input3 = ninput3\n",
    "        error = newError\n",
    "\n",
    "# Print the optimized parameters and the number of successful updates. \n",
    "print(input1, input2, input3, changes)"
   ]
  },
  {
   "cell_type": "markdown",
   "metadata": {},
   "source": [
    "Optimized parameters for reference. \n",
    "\n",
    "Square Well: [5.261874731343652e-15, -1.9621412215115647e-12]\n",
    "\n",
    "Yukawa: [2.543646202990828e-15, -1.3431435062833437e-13]\n",
    "\n",
    "WS: [2.1008416412803036e-15, 1.0206858107669728e-15, 8.783933e-12]"
   ]
  },
  {
   "cell_type": "markdown",
   "metadata": {},
   "source": [
    "Note that due to the Monte Carlo nature of the modified annealing, the parameters will be slightly different each time they are recalculated. "
   ]
  }
 ],
 "metadata": {
  "anaconda-cloud": {},
  "kernelspec": {
   "display_name": "Python 3",
   "language": "python",
   "name": "python3"
  },
  "language_info": {
   "codemirror_mode": {
    "name": "ipython",
    "version": 3
   },
   "file_extension": ".py",
   "mimetype": "text/x-python",
   "name": "python",
   "nbconvert_exporter": "python",
   "pygments_lexer": "ipython3",
   "version": "3.7.3"
  }
 },
 "nbformat": 4,
 "nbformat_minor": 1
}
